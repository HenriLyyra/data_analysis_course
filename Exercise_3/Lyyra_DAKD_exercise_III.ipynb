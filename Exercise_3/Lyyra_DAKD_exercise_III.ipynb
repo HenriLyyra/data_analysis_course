{
 "cells": [
  {
   "cell_type": "code",
   "execution_count": 16,
   "metadata": {
    "collapsed": true
   },
   "outputs": [],
   "source": [
    "import numpy as np;\n",
    "import scipy.stats;\n",
    "import math;\n",
    "import matplotlib.pyplot as plt;\n",
    "from mpl_toolkits.mplot3d import Axes3D \n",
    "import pandas as pd"
   ]
  },
  {
   "cell_type": "code",
   "execution_count": 17,
   "metadata": {
    "collapsed": true
   },
   "outputs": [],
   "source": [
    "## ## ## ## ## #### ## ## ## ## ## \n",
    "## ## ## ## ## TASK 1: ## ## ## ##\n",
    "## ## ## ## ## #### ## ## ## ## ## \n",
    "\n",
    "\n",
    "#Importing the shipdata\n",
    "sd = pd.read_csv(\"shipdata.txt\",sep=\"\\t\")\n",
    "\n",
    "#sd[\"Ship type\"] # Makes a list of the column \"Ship types\""
   ]
  },
  {
   "cell_type": "code",
   "execution_count": 18,
   "metadata": {},
   "outputs": [
    {
     "name": "stdout",
     "output_type": "stream",
     "text": [
      "SHIP TYPES AND NUMBER OF THEIR APPEARENCE:\n"
     ]
    },
    {
     "data": {
      "text/plain": [
       "Cargo     50\n",
       "Tanker    48\n",
       "Tug        9\n",
       "dtype: int64"
      ]
     },
     "execution_count": 18,
     "metadata": {},
     "output_type": "execute_result"
    }
   ],
   "source": [
    "# SHIP TYPES AND NUMBER OF THEIR APPEARENCE\n",
    "\n",
    "shipType_with_dummies = pd.get_dummies( sd[\"Ship type\"] )# returns shipType as hot coding\n",
    "\n",
    "print(\"SHIP TYPES AND NUMBER OF THEIR APPEARENCE:\")\n",
    "shipType_with_dummies.sum()\n",
    "\n",
    "#sd[\"Ship type\"].value_counts() Alternative to the above\n"
   ]
  },
  {
   "cell_type": "code",
   "execution_count": 19,
   "metadata": {},
   "outputs": [
    {
     "name": "stdout",
     "output_type": "stream",
     "text": [
      "SCATTER PLOT OF 'Tonnage' VS 'length\n"
     ]
    },
    {
     "data": {
      "image/png": "[encoded data removed]",
      "text/plain": [
       "<matplotlib.figure.Figure at 0x144504e0>"
      ]
     },
     "metadata": {},
     "output_type": "display_data"
    },
    {
     "name": "stdout",
     "output_type": "stream",
     "text": [
      "We see, that the red Cargo boat on the right is an outlier.\n",
      "To distinguish it as an outlier we didn't need any transformation.\n"
     ]
    }
   ],
   "source": [
    "#SCATTER PLOT OF 'Tonnage' VS 'length'\n",
    "\n",
    "print(\"SCATTER PLOT OF 'Tonnage' VS 'length\")\n",
    "\n",
    "#Example from https://stackoverflow.com/questions/31328526/scatter-plot-by-category-in-pandas\n",
    "\n",
    "cmap = {'Cargo': 'red', 'Tanker': 'blue', 'Tug': 'green'}\n",
    "sd.plot.scatter(x='Length (m)',y='Gross tonnage',color=[cmap.get(c, 'black') for c in sd[\"Ship type\"]]) \n",
    "plt.show()\n",
    "\n",
    "print(\"We see, that the red Cargo boat on the right is an outlier.\")\n",
    "print(\"To distinguish it as an outlier we didn't need any transformation.\")"
   ]
  },
  {
   "cell_type": "code",
   "execution_count": 21,
   "metadata": {},
   "outputs": [
    {
     "name": "stdout",
     "output_type": "stream",
     "text": [
      "CORRECTING THE FALSE VALUE OF THE OUTLIER\n"
     ]
    },
    {
     "data": {
      "image/png": "[encoded data removed]",
      "text/plain": [
       "<matplotlib.figure.Figure at 0x269f860>"
      ]
     },
     "metadata": {},
     "output_type": "display_data"
    },
    {
     "name": "stdout",
     "output_type": "stream",
     "text": [
      "We have corrected outlier length value.\n"
     ]
    }
   ],
   "source": [
    "#CORRECTING THE FALSE VALUE OF THE OUTLIER\n",
    "\n",
    "print(\"CORRECTING THE FALSE VALUE OF THE OUTLIER\")\n",
    "\n",
    "#Example from https://pandas.pydata.org/pandas-docs/stable/generated/pandas.DataFrame.replace.html\n",
    "sd = sd.replace({'Length (m)': 1000.0}, 99.95)\n",
    "\n",
    "cmap = {'Cargo': 'red', 'Tanker': 'blue', 'Tug': 'green'}\n",
    "sd.plot.scatter(x='Length (m)',y='Gross tonnage',color=[cmap.get(c, 'black') for c in sd[\"Ship type\"]]) \n",
    "plt.show()\n",
    "\n",
    "print(\"We have corrected outlier length value.\")"
   ]
  },
  {
   "cell_type": "code",
   "execution_count": 22,
   "metadata": {
    "scrolled": false
   },
   "outputs": [
    {
     "name": "stdout",
     "output_type": "stream",
     "text": [
      "CONVERTING 'Destination' FROM CATECORIGAL TO A NUMERICAL ATTRIBUTE\n"
     ]
    }
   ],
   "source": [
    "#'Destination' FROM CATECORIGAL TO A NUMERICAL ATTRIBUTE\n",
    "\n",
    "print(\"CONVERTING 'Destination' FROM CATECORIGAL TO A NUMERICAL ATTRIBUTE\")\n",
    "\n",
    "sd = sd.join( pd.get_dummies( sd[\"Destination\"] ) )\n",
    "\n",
    "#sd"
   ]
  },
  {
   "cell_type": "code",
   "execution_count": 23,
   "metadata": {},
   "outputs": [
    {
     "name": "stdout",
     "output_type": "stream",
     "text": [
      "PERFORMING THE Z-SCORE STANDARDIZATION WITH VARIANCE NORMALIZATION TO THE ATTRIBUTES:\n"
     ]
    }
   ],
   "source": [
    "#THE Z-SCORE STANDARDIZATION WITH VARIANCE NORMALIZATION\n",
    "\n",
    "print(\"PERFORMING THE Z-SCORE STANDARDIZATION WITH VARIANCE NORMALIZATION TO THE ATTRIBUTES:\")\n",
    "\n",
    "# Subtracting the mean value from each attribute\n",
    "sd['Speed (knots)'] = sd['Speed (knots)'] - np.mean(sd['Speed (knots)'], axis=0)\n",
    "sd['Gross tonnage'] = sd['Gross tonnage'] - np.mean(sd['Gross tonnage'], axis=0)\n",
    "sd['Length (m)'] = sd['Length (m)'] - np.mean(sd['Length (m)'], axis=0)\n",
    "sd['Breadth (m)'] = sd['Breadth (m)'] - np.mean(sd['Breadth (m)'], axis=0)\n",
    "\n",
    "# Dividing each attribute by their standard deviation\n",
    "sd['Speed (knots)'] = sd['Speed (knots)']/np.std(sd['Speed (knots)'], axis=0)\n",
    "sd['Gross tonnage'] = sd['Gross tonnage']/np.std(sd['Gross tonnage'], axis=0)\n",
    "sd['Length (m)'] = sd['Length (m)']/np.std(sd['Length (m)'], axis=0)\n",
    "sd['Breadth (m)'] = sd['Breadth (m)']/np.std(sd['Breadth (m)'], axis=0)"
   ]
  },
  {
   "cell_type": "code",
   "execution_count": 25,
   "metadata": {},
   "outputs": [
    {
     "name": "stdout",
     "output_type": "stream",
     "text": [
      "DEFINING A METHOD FOR RANDOMIZING AND SAMPLING THE TRAINING AND TEST DATA FOR TASK 2:\n",
      "In the sampling of training and test data of Task 2, we should use stratification.\n",
      "If we look at the distribution of ship types in the total data, we see that there are only 9 tug boats.\n",
      "If stratification was not done, it would be possible (and quite likely) that the training data would not contain any tug boats.\n",
      "If the training data would contain only few or no tug boats, the method would fail in detecting tug boats with high rate, accounting to low success rate\n",
      "DEFIINING A METHOD FOR CALCULATING THE CLASSIFICATION PERFORMANCE ACCURACY:\n"
     ]
    }
   ],
   "source": [
    "## ## ## ## ## #### ## ## ## ## ## \n",
    "## ## ## ## ## TASK 2: ## ## ## ##\n",
    "## ## ## ## ## #### ## ## ## ## ## \n",
    "\n",
    "\n",
    "from sklearn.utils import shuffle\n",
    "from sklearn.neighbors import NearestNeighbors\n",
    "from sklearn.neighbors import KNeighborsClassifier\n",
    "\n",
    "naapuria = 3\n",
    "\n",
    "print(\"DEFINING A METHOD FOR RANDOMIZING AND SAMPLING THE TRAINING AND TEST DATA FOR TASK 2:\")\n",
    "\n",
    "print(\"In the sampling of training and test data of Task 2, we should use stratification.\")\n",
    "print(\"If we look at the distribution of ship types in the total data, we see that there are only 9 tug boats.\")\n",
    "print(\"If stratification was not done, it would be possible (and quite likely) that the training data would not contain any tug boats.\")\n",
    "print(\"If the training data would contain only few or no tug boats, the method would fail in detecting tug boats with high rate, accounting to low success rate\")\n",
    "\n",
    "# RANDOMIZING AND SAMPLING THE TRAINING AND TEST DATA\n",
    "def task2Sample(sd):\n",
    "    sdRand = shuffle(sd)\n",
    "\n",
    "    # SRATIFICATION\n",
    "    \n",
    "    cargoRand = sdRand.loc[sdRand['Ship type'] == 'Cargo']\n",
    "    tankerRand = sdRand.loc[sdRand['Ship type'] == 'Tanker']\n",
    "    tugRand = sdRand.loc[sdRand['Ship type'] == 'Tug']\n",
    "\n",
    "\n",
    "    cargoTrain = cargoRand.head( int(len(cargoRand)*0.7) )\n",
    "    cargoTest = cargoRand.tail( len(cargoRand) - int(len(cargoRand)*0.7) )\n",
    "\n",
    "    tankerTrain = tankerRand.head( int(len(tankerRand)*0.7) )\n",
    "    tankerTest = tankerRand.tail( len(tankerRand) - int(len(tankerRand)*0.7) )\n",
    "\n",
    "    tugTrain = tugRand.head( int(len(tugRand)*0.7) )\n",
    "    tugTest = tugRand.tail( len(tugRand) - int(len(tugRand)*0.7) )\n",
    "\n",
    "\n",
    "    # Combining the training (and test data) of each boat type\n",
    "    training0 = cargoTrain.append( tankerTrain.append(tugTrain) )\n",
    "    testing0 = cargoTest.append( tankerTest.append(tugTest) )\n",
    "\n",
    "    return [training0, testing0]\n",
    "\n",
    "print(\"DEFIINING A METHOD FOR CALCULATING THE CLASSIFICATION PERFORMANCE ACCURACY:\")\n",
    "\n",
    "def nnClassifAccur(naapuria, training0, testing0):\n",
    "\n",
    "    # filtering the irrelevant attributes from the datasets\n",
    "    crop_indices = [1] + list(range(5,23))\n",
    "    training = training0.iloc[:,crop_indices]\n",
    "    testing = testing0.iloc[:,crop_indices]\n",
    "\n",
    "    # finding the nearest neighbors\n",
    "\n",
    "    neigh = NearestNeighbors(n_neighbors = naapuria, algorithm='ball_tree').fit(training) \n",
    "    distances, indices = neigh.kneighbors(testing)\n",
    "\n",
    "\n",
    "    # Saving the shiptypes of the nearest neighbors in dataframe\n",
    "\n",
    "    columns = range(naapuria)\n",
    "    nShipTypes = pd.DataFrame(index = range( len(indices) ), columns=columns)\n",
    "\n",
    "    for k in range( len(indices) ):\n",
    "        for i in columns:\n",
    "            nShipTypes.set_value(k, i, training0.iloc[indices[k,i]]['Ship type'] )\n",
    "\n",
    "    nShipTypes = nShipTypes.mode(axis=1)\n",
    "\n",
    "    # comparing the predicted and actual type\n",
    "\n",
    "    s = 0\n",
    "\n",
    "    for i in range( len(nShipTypes) ):\n",
    "        if (testing0.iloc[i]['Ship type'] == nShipTypes.iloc[i][0] ):\n",
    "            s = s + 1\n",
    "    return s / len(nShipTypes) "
   ]
  },
  {
   "cell_type": "code",
   "execution_count": 26,
   "metadata": {},
   "outputs": [
    {
     "name": "stdout",
     "output_type": "stream",
     "text": [
      "HISTOGRAM OF THE ACCURACY OF THE CLASSIFICATION IN TASK 2 WITH 1000 RAMDOMLY SAMPLED TRAINING AND TEST SETS:\n"
     ]
    },
    {
     "data": {
      "image/png": "[encoded data removed]",
      "text/plain": [
       "<matplotlib.figure.Figure at 0x144022e8>"
      ]
     },
     "metadata": {},
     "output_type": "display_data"
    },
    {
     "name": "stdout",
     "output_type": "stream",
     "text": [
      "The mean of classifier accuracy is... 0.829636363636!\n",
      "The standard deviation of classifier accuracy is... 0.0560000983864!!!\n"
     ]
    }
   ],
   "source": [
    "print(\"HISTOGRAM OF THE ACCURACY OF THE CLASSIFICATION IN TASK 2 WITH 1000 RAMDOMLY SAMPLED TRAINING AND TEST SETS:\")\n",
    "\n",
    "n_iter = 1000\n",
    "\n",
    "task2accur = []\n",
    "\n",
    "for i in range(n_iter):\n",
    "    temp = task2Sample(sd)\n",
    "    task2accur = task2accur + [ nnClassifAccur(3, temp[0], temp[1]) ] \n",
    "        \n",
    "plt.hist( task2accur, n_iter )\n",
    "plt.title('Classifier accuracy')\n",
    "\n",
    "plt.show()\n",
    "\n",
    "print( \"The mean of classifier accuracy is... \" + str( np.mean(task2accur) ) + \"!\" )\n",
    "print( \"The standard deviation of classifier accuracy is... \" + str( np.std(task2accur) ) + \"!!!\" )"
   ]
  },
  {
   "cell_type": "code",
   "execution_count": 10,
   "metadata": {},
   "outputs": [
    {
     "name": "stdout",
     "output_type": "stream",
     "text": [
      "THE ABOVE PLOT WITH LESS BINS TO GET A MORE INTUITIVE DISTRIBUTION:\n"
     ]
    },
    {
     "data": {
      "image/png": "[encoded data removed]",
      "text/plain": [
       "<matplotlib.figure.Figure at 0xc5afe80>"
      ]
     },
     "metadata": {},
     "output_type": "display_data"
    },
    {
     "name": "stdout",
     "output_type": "stream",
     "text": [
      "As we see from the histogram, the values of classification accuracy for all realizations are quite high, the mean being 0.875303030303.\n"
     ]
    }
   ],
   "source": [
    "print(\"THE ABOVE PLOT WITH LESS BINS TO GET A MORE INTUITIVE DISTRIBUTION:\")# print(\" asds %s asdd\" %str( np.std(task2accur) )  \n",
    "\n",
    "plt.hist( task2accur, 10)#20 )\n",
    "plt.title('Classifier accuracy')\n",
    "\n",
    "plt.show()\n",
    "\n",
    "print(\"As we see from the histogram, the values of classification accuracy for all realizations are quite high, the mean being 0.875303030303.\")"
   ]
  },
  {
   "cell_type": "code",
   "execution_count": 11,
   "metadata": {
    "scrolled": true
   },
   "outputs": [
    {
     "name": "stdout",
     "output_type": "stream",
     "text": [
      "DEFINING A METHOD FOR LEAVE-ONE-OUT SAMPLING METHOD:\n"
     ]
    }
   ],
   "source": [
    "## ## ## ## ## #### ## ## ## ## ## \n",
    "## ## ## ## ## TASK 3: ## ## ## ##\n",
    "## ## ## ## ## #### ## ## ## ## ## \n",
    "\n",
    "# SAMPLING THE TRAINING AND TEST DATA (element i is the test data)\n",
    "# AKA LEAVE-ONE-OUT SAMPLING\n",
    "\n",
    "print(\"DEFINING A METHOD FOR LEAVE-ONE-OUT SAMPLING METHOD:\")\n",
    "\n",
    "def task3Sample(sd, i):\n",
    "\n",
    "    testing0 = sd.iloc[[i]]\n",
    "    training0 = sd.drop(i)\n",
    "\n",
    "    return [training0, testing0]"
   ]
  },
  {
   "cell_type": "code",
   "execution_count": 12,
   "metadata": {},
   "outputs": [
    {
     "name": "stdout",
     "output_type": "stream",
     "text": [
      "DEFINING A METHOD FOR CALCULATING THE ACCYRACY WHEN SAMPLING WITH LEAVE-ONE-OUT SAMPLING METHOD:\n"
     ]
    }
   ],
   "source": [
    "print(\"DEFINING A METHOD FOR CALCULATING THE ACCYRACY WHEN SAMPLING WITH LEAVE-ONE-OUT SAMPLING METHOD:\")\n",
    "\n",
    "def task3nnAccuracy(nn):\n",
    "\n",
    "    sum = 0\n",
    "\n",
    "    for i in range( len(sd) ):\n",
    "        samplei = task3Sample(sd, i)\n",
    "        sum = sum + nnClassifAccur(nn, samplei[0], samplei[1])\n",
    "\n",
    "    return sum/len(sd)"
   ]
  },
  {
   "cell_type": "code",
   "execution_count": 13,
   "metadata": {},
   "outputs": [
    {
     "name": "stdout",
     "output_type": "stream",
     "text": [
      "By using the same number of nearest neighbours as in Task 2, namely k = 3, the leave-one-out sampling gives the classification accuracy of 0.8317757009345794\n",
      "In Task 2, the mean classification accuracy for k = 3 was 0.875303030303, which is slightly higher.\n"
     ]
    }
   ],
   "source": [
    "print(\"By using the same number of nearest neighbours as in Task 2, namely k = 3, the leave-one-out sampling gives the classification accuracy of \" +  str( task3nnAccuracy(3) ) )\n",
    "print(\"In Task 2, the mean classification accuracy for k = 3 was 0.875303030303, which is slightly higher.\")"
   ]
  },
  {
   "cell_type": "code",
   "execution_count": 14,
   "metadata": {
    "scrolled": true
   },
   "outputs": [
    {
     "name": "stdout",
     "output_type": "stream",
     "text": [
      "CALCULATING THE ACCURACIES FOR EACH ELEMENT i LEFT OUT IN A VECTOR\n"
     ]
    }
   ],
   "source": [
    "print(\"CALCULATING THE ACCURACIES FOR EACH ELEMENT i LEFT OUT IN A VECTOR\")\n",
    "\n",
    "task3accur = []\n",
    "\n",
    "for nn in range( len(sd) - 1 ):\n",
    "    task3accur = task3accur + [task3nnAccuracy( 1 + nn)]"
   ]
  },
  {
   "cell_type": "code",
   "execution_count": 15,
   "metadata": {},
   "outputs": [
    {
     "name": "stdout",
     "output_type": "stream",
     "text": [
      "THE HISTOGRAMS OF ACCURACIES IN LEAVE-ONE-OUT SAMPLING\n"
     ]
    },
    {
     "data": {
      "image/png": "[encoded data removed]",
      "text/plain": [
       "<matplotlib.figure.Figure at 0xc5585f8>"
      ]
     },
     "metadata": {},
     "output_type": "display_data"
    },
    {
     "name": "stdout",
     "output_type": "stream",
     "text": [
      "The mean of classifier accuracy is... 0.660465526362!\n",
      "The standard deviation of classifier accuracy is... 0.105021851533!!!\n"
     ]
    },
    {
     "data": {
      "image/png": "[encoded data removed]",
      "text/plain": [
       "<matplotlib.figure.Figure at 0xc1e8860>"
      ]
     },
     "metadata": {},
     "output_type": "display_data"
    }
   ],
   "source": [
    "print(\"THE HISTOGRAMS OF ACCURACIES IN LEAVE-ONE-OUT SAMPLING\")\n",
    "\n",
    "plt.hist( task3accur, n_iter )\n",
    "plt.title('Classifier accuracy')\n",
    "\n",
    "plt.show()\n",
    "\n",
    "print( \"The mean of classifier accuracy is... \" + str( np.mean(task3accur) ) + \"!\" )\n",
    "print( \"The standard deviation of classifier accuracy is... \" + str( np.std(task3accur) ) + \"!!!\" )\n",
    "\n",
    "plt.hist( task3accur, 15 )\n",
    "plt.title('Classifier accuracy')\n",
    "\n",
    "plt.show()"
   ]
  },
  {
   "cell_type": "code",
   "execution_count": 16,
   "metadata": {},
   "outputs": [
    {
     "name": "stdout",
     "output_type": "stream",
     "text": [
      "PLOTTING THE ACCURACY AS A FUNCTION OF THE NUMBER OR NEAREST NEIGHBOURS:\n"
     ]
    },
    {
     "data": {
      "image/png": "[encoded data removed]",
      "text/plain": [
       "<matplotlib.figure.Figure at 0xc558710>"
      ]
     },
     "metadata": {},
     "output_type": "display_data"
    }
   ],
   "source": [
    "print(\"PLOTTING THE ACCURACY AS A FUNCTION OF THE NUMBER OR NEAREST NEIGHBOURS:\")\n",
    "\n",
    "plt.plot(task3accur)\n",
    "plt.ylabel('Accuracy')\n",
    "plt.xlabel('Number of nearest neighbours')\n",
    "plt.show()"
   ]
  },
  {
   "cell_type": "code",
   "execution_count": 17,
   "metadata": {},
   "outputs": [
    {
     "name": "stdout",
     "output_type": "stream",
     "text": [
      "PLOTTING THE ACCURACY AS A FUNCTION OF THE NUMBER OR NEAREST NEIGHBOURS FROM 1 TO 20 NEIGHBOURS:\n"
     ]
    },
    {
     "data": {
      "image/png": "[encoded data removed]",
      "text/plain": [
       "<matplotlib.figure.Figure at 0xbc56940>"
      ]
     },
     "metadata": {},
     "output_type": "display_data"
    }
   ],
   "source": [
    "print(\"PLOTTING THE ACCURACY AS A FUNCTION OF THE NUMBER OR NEAREST NEIGHBOURS FROM 1 TO 20 NEIGHBOURS:\")\n",
    "\n",
    "task3accur20 = []\n",
    "\n",
    "for nn in range( 20 ):\n",
    "    task3accur20 = task3accur20 + [task3nnAccuracy( 1 + nn)]\n",
    "    \n",
    "plt.plot(task3accur20)\n",
    "plt.ylabel('Accuracy')\n",
    "plt.xlabel('Number of nearest neighbours')\n",
    "plt.show()\n"
   ]
  },
  {
   "cell_type": "code",
   "execution_count": 18,
   "metadata": {},
   "outputs": [
    {
     "name": "stdout",
     "output_type": "stream",
     "text": [
      "We find, that the maximal classification accuracy is found for k = 5.\n"
     ]
    }
   ],
   "source": [
    "print(\"We find, that the maximal classification accuracy is found for k = \" + str( np.argmax(task3accur20) + 1 ) + \".\" )"
   ]
  },
  {
   "cell_type": "code",
   "execution_count": 19,
   "metadata": {},
   "outputs": [
    {
     "name": "stdout",
     "output_type": "stream",
     "text": [
      "PLOTTING THE ACCURACY AS A FUNCTION OF THE NUMBER OR NEAREST NEIGHBOURS:\n"
     ]
    },
    {
     "data": {
      "image/png": "[encoded data removed]",
      "text/plain": [
       "<matplotlib.figure.Figure at 0xb3f6d68>"
      ]
     },
     "metadata": {},
     "output_type": "display_data"
    }
   ],
   "source": [
    "print(\"PLOTTING THE ACCURACY AS A FUNCTION OF THE NUMBER OR NEAREST NEIGHBOURS:\")\n",
    "\n",
    "bar_width = 0.35\n",
    "index = np.arange( len(task3accur) ) + 0.7\n",
    "\n",
    "plt.bar(index + bar_width, task3accur)\n",
    "plt.ylabel('Classifier accuracy')\n",
    "plt.xlabel('Number of nearest neighbours')\n",
    "\n",
    "\n",
    "#fig.tight_layout()\n",
    "plt.show()"
   ]
  },
  {
   "cell_type": "code",
   "execution_count": 20,
   "metadata": {},
   "outputs": [
    {
     "name": "stdout",
     "output_type": "stream",
     "text": [
      "PLOTTING THE ACCURACY AS A FUNCTION OF THE NUMBER OR NEAREST NEIGHBOURS FROM 1 TO 20 NEIGHBOURS:\n"
     ]
    },
    {
     "data": {
      "image/png": "[encoded data removed]",
      "text/plain": [
       "<matplotlib.figure.Figure at 0xb3ef550>"
      ]
     },
     "metadata": {},
     "output_type": "display_data"
    }
   ],
   "source": [
    "print(\"PLOTTING THE ACCURACY AS A FUNCTION OF THE NUMBER OR NEAREST NEIGHBOURS FROM 1 TO 20 NEIGHBOURS:\")\n",
    "\n",
    "bar_width = 0.35\n",
    "index = np.arange( len(task3accur20) ) + 0.7\n",
    "\n",
    "plt.bar(index + bar_width, task3accur20)\n",
    "plt.ylabel('Classifier accuracy')\n",
    "plt.xlabel('Number of nearest neighbours')\n",
    "\n",
    "plt.show()"
   ]
  },
  {
   "cell_type": "code",
   "execution_count": 21,
   "metadata": {
    "collapsed": true
   },
   "outputs": [],
   "source": [
    "## ## ## ## ## #### ## ## ## ## ## \n",
    "## ## ## ## ## TASK 4: ## ## ## ##\n",
    "## ## ## ## ## #### ## ## ## ## ## \n",
    "\n",
    "#list for numbers of nearest neighbours\n",
    "nnList = range(20)\n",
    "\n",
    "task4accur = []\n",
    "\n",
    "for i in nnList:\n",
    "    task4accur = task4accur + [nnClassifAccur(i + 1, sd, sd)]    "
   ]
  },
  {
   "cell_type": "code",
   "execution_count": 22,
   "metadata": {},
   "outputs": [
    {
     "name": "stdout",
     "output_type": "stream",
     "text": [
      "PLOTTING THE ACCURACY AS A FUNCTION OF THE NUMBER OR NEAREST NEIGHBOURS FROM 1 TO 20 NEIGHBOURS:\n"
     ]
    },
    {
     "data": {
      "image/png": "[encoded data removed]",
      "text/plain": [
       "<matplotlib.figure.Figure at 0xcd67b38>"
      ]
     },
     "metadata": {},
     "output_type": "display_data"
    }
   ],
   "source": [
    "print(\"PLOTTING THE ACCURACY AS A FUNCTION OF THE NUMBER OR NEAREST NEIGHBOURS FROM 1 TO 20 NEIGHBOURS:\")\n",
    "\n",
    "bar_width = 0.35\n",
    "index = np.arange( len(task4accur) ) + 0.7\n",
    "\n",
    "plt.bar(index + bar_width, task4accur)\n",
    "plt.ylabel('Classifier accuracy')\n",
    "plt.xlabel('Number of nearest neighbours')\n",
    "\n",
    "plt.show()"
   ]
  },
  {
   "cell_type": "code",
   "execution_count": 23,
   "metadata": {},
   "outputs": [
    {
     "name": "stdout",
     "output_type": "stream",
     "text": [
      "We find, that the maximal accuracy 1.0 is found for k = 1.\n",
      "The apparent 100 % accuracy is explained by the sampling and testing sets: Since the training set contains each element of the test set, the algorithm finds the nearet neighbour of each element of the test set to be the exact same element in training set. Thus, using only one nearest neihbour, the ship type is always classified correctly.\n"
     ]
    }
   ],
   "source": [
    "print(\"We find, that the maximal accuracy \" + str( np.max(task4accur) ) + \" is found for k = \" + str( np.argmax(task4accur) + 1 ) + \".\" )\n",
    "print(\"The apparent 100 % accuracy is explained by the sampling and testing sets: Since the training set contains each element of the test set, the algorithm finds the nearet neighbour of each element of the test set to be the exact same element in training set. Thus, using only one nearest neihbour, the ship type is always classified correctly.\")"
   ]
  },
  {
   "cell_type": "code",
   "execution_count": 24,
   "metadata": {},
   "outputs": [
    {
     "data": {
      "image/png": "[encoded data removed]",
      "text/plain": [
       "<matplotlib.figure.Figure at 0xc280b00>"
      ]
     },
     "metadata": {},
     "output_type": "display_data"
    },
    {
     "name": "stdout",
     "output_type": "stream",
     "text": [
      "By comparing the results of task 3 and task 4, we see that for all numbers of nearest neighbours from 1 to 20 using the training data as test data gives higher accuracy than the leave-one-out sampling.\n",
      "\n",
      " Despite the higher accuracy in our case, the training data should not be used as testing data. \n",
      "This is because, even though in the tests the accuracy score is high, it is very misleading: in real task of classifying a sample out of the training set might fail with high probability.\n",
      "\n",
      "To conclude, leave-one-out is better for evaluating the classification accuracy, since it gives more realistic approximation for the case of classifying data outside of the training set.\n"
     ]
    }
   ],
   "source": [
    "bar_width = 0.35\n",
    "index = np.arange( len(task4accur) ) + 0.7\n",
    "\n",
    "colors = ['blue', 'orange']\n",
    "names = ['Task 3: leave-one-out','Task 4: train data = test data = full data']\n",
    "legendSize = 7\n",
    "\n",
    "plt.bar(index + bar_width, task4accur, color=colors[1], label=names[1] )\n",
    "plt.bar(index + bar_width, task3accur20, color=colors[0], label=names[0] )\n",
    "plt.ylabel('Classifier accuracy')\n",
    "plt.xlabel('Number of nearest neighbours')\n",
    "plt.legend(loc='center')\n",
    "#plt.tight_layout()\n",
    "\n",
    "plt.show()\n",
    "\n",
    "print(\"By comparing the results of task 3 and task 4, we see that for all numbers of nearest neighbours from 1 to 20 using the training data as test data gives higher accuracy than the leave-one-out sampling.\")\n",
    "print(\"\\n Despite the higher accuracy in our case, the training data should not be used as testing data. \")\n",
    "print(\"This is because, even though in the tests the accuracy score is high, it is very misleading: in real task of classifying a sample out of the training set might fail with high probability.\")\n",
    "print(\"\\nTo conclude, leave-one-out is better for evaluating the classification accuracy, since it gives more realistic approximation for the case of classifying data outside of the training set.\")"
   ]
  },
  {
   "cell_type": "code",
   "execution_count": null,
   "metadata": {
    "collapsed": true
   },
   "outputs": [],
   "source": []
  }
 ],
 "metadata": {
  "kernelspec": {
   "display_name": "Python 3",
   "language": "python",
   "name": "python3"
  },
  "language_info": {
   "codemirror_mode": {
    "name": "ipython",
    "version": 3
   },
   "file_extension": ".py",
   "mimetype": "text/x-python",
   "name": "python",
   "nbconvert_exporter": "python",
   "pygments_lexer": "ipython3",
   "version": "3.6.3"
  }
 },
 "nbformat": 4,
 "nbformat_minor": 2
}
